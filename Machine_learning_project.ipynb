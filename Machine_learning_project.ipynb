{
  "cells": [
    {
      "cell_type": "code",
      "execution_count": 1,
      "id": "08609c47",
      "metadata": {
        "id": "08609c47"
      },
      "outputs": [],
      "source": [
        "import numpy as np\n",
        "import pandas as pd\n",
        "from sklearn.preprocessing import LabelEncoder\n",
        "from sklearn.preprocessing import OneHotEncoder\n",
        "from sklearn import metrics\n",
        "from sklearn.model_selection import train_test_split\n",
        "from sklearn.linear_model import LinearRegression\n",
        "from sklearn import preprocessing\n",
        "from sklearn.metrics import classification_report\n",
        "from sklearn.metrics import confusion_matrix\n",
        "from sklearn.metrics import matthews_corrcoef\n",
        "from imblearn.metrics import geometric_mean_score\n",
        "from imblearn.over_sampling import SMOTE"
      ]
    },
    {
      "cell_type": "markdown",
      "id": "6d6cc6e5",
      "metadata": {
        "id": "6d6cc6e5"
      },
      "source": [
        "# Read the dataset"
      ]
    },
    {
      "cell_type": "code",
      "execution_count": 3,
      "id": "abe9b1d7",
      "metadata": {
        "colab": {
          "base_uri": "https://localhost:8080/",
          "height": 206
        },
        "id": "abe9b1d7",
        "outputId": "4a8d6899-a1b5-4b4a-a93a-96e587018fe1"
      },
      "outputs": [
        {
          "output_type": "display_data",
          "data": {
            "text/plain": [
              "     X1     X2  X3   X4  X5    X6   X7   X8   X9   X10   X11  X12    X13  \\\n",
              "0  2709   59.0  11  120  43   150  228  217  120  2114  0.66  269   FC11   \n",
              "1  2802   54.0   7    0   0   693  224  225  136   162  0.35  195   FC11   \n",
              "2  2325   28.0  12    0   0  1260  215  213  133   162  0.89  750   FC14   \n",
              "3  2837  112.0   8  272  16  3649  235  231  128  6221  0.27 -155   FC11   \n",
              "4  2509   59.0   7  134  10   900  226  226  134  5184  0.93   88   FC11   \n",
              "\n",
              "     X14  X15       Y  \n",
              "0   CA49   R1   Melon  \n",
              "1   CA50  NaN   Melon  \n",
              "2   CA26  NaN  Carrot  \n",
              "3   CA32  NaN  Orange  \n",
              "4   CA38  NaN   Melon  "
            ],
            "text/html": [
              "\n",
              "  <div id=\"df-1839ebaf-5974-4b02-8b0d-36f32b8b991b\">\n",
              "    <div class=\"colab-df-container\">\n",
              "      <div>\n",
              "<style scoped>\n",
              "    .dataframe tbody tr th:only-of-type {\n",
              "        vertical-align: middle;\n",
              "    }\n",
              "\n",
              "    .dataframe tbody tr th {\n",
              "        vertical-align: top;\n",
              "    }\n",
              "\n",
              "    .dataframe thead th {\n",
              "        text-align: right;\n",
              "    }\n",
              "</style>\n",
              "<table border=\"1\" class=\"dataframe\">\n",
              "  <thead>\n",
              "    <tr style=\"text-align: right;\">\n",
              "      <th></th>\n",
              "      <th>X1</th>\n",
              "      <th>X2</th>\n",
              "      <th>X3</th>\n",
              "      <th>X4</th>\n",
              "      <th>X5</th>\n",
              "      <th>X6</th>\n",
              "      <th>X7</th>\n",
              "      <th>X8</th>\n",
              "      <th>X9</th>\n",
              "      <th>X10</th>\n",
              "      <th>X11</th>\n",
              "      <th>X12</th>\n",
              "      <th>X13</th>\n",
              "      <th>X14</th>\n",
              "      <th>X15</th>\n",
              "      <th>Y</th>\n",
              "    </tr>\n",
              "  </thead>\n",
              "  <tbody>\n",
              "    <tr>\n",
              "      <th>0</th>\n",
              "      <td>2709</td>\n",
              "      <td>59.0</td>\n",
              "      <td>11</td>\n",
              "      <td>120</td>\n",
              "      <td>43</td>\n",
              "      <td>150</td>\n",
              "      <td>228</td>\n",
              "      <td>217</td>\n",
              "      <td>120</td>\n",
              "      <td>2114</td>\n",
              "      <td>0.66</td>\n",
              "      <td>269</td>\n",
              "      <td>FC11</td>\n",
              "      <td>CA49</td>\n",
              "      <td>R1</td>\n",
              "      <td>Melon</td>\n",
              "    </tr>\n",
              "    <tr>\n",
              "      <th>1</th>\n",
              "      <td>2802</td>\n",
              "      <td>54.0</td>\n",
              "      <td>7</td>\n",
              "      <td>0</td>\n",
              "      <td>0</td>\n",
              "      <td>693</td>\n",
              "      <td>224</td>\n",
              "      <td>225</td>\n",
              "      <td>136</td>\n",
              "      <td>162</td>\n",
              "      <td>0.35</td>\n",
              "      <td>195</td>\n",
              "      <td>FC11</td>\n",
              "      <td>CA50</td>\n",
              "      <td>NaN</td>\n",
              "      <td>Melon</td>\n",
              "    </tr>\n",
              "    <tr>\n",
              "      <th>2</th>\n",
              "      <td>2325</td>\n",
              "      <td>28.0</td>\n",
              "      <td>12</td>\n",
              "      <td>0</td>\n",
              "      <td>0</td>\n",
              "      <td>1260</td>\n",
              "      <td>215</td>\n",
              "      <td>213</td>\n",
              "      <td>133</td>\n",
              "      <td>162</td>\n",
              "      <td>0.89</td>\n",
              "      <td>750</td>\n",
              "      <td>FC14</td>\n",
              "      <td>CA26</td>\n",
              "      <td>NaN</td>\n",
              "      <td>Carrot</td>\n",
              "    </tr>\n",
              "    <tr>\n",
              "      <th>3</th>\n",
              "      <td>2837</td>\n",
              "      <td>112.0</td>\n",
              "      <td>8</td>\n",
              "      <td>272</td>\n",
              "      <td>16</td>\n",
              "      <td>3649</td>\n",
              "      <td>235</td>\n",
              "      <td>231</td>\n",
              "      <td>128</td>\n",
              "      <td>6221</td>\n",
              "      <td>0.27</td>\n",
              "      <td>-155</td>\n",
              "      <td>FC11</td>\n",
              "      <td>CA32</td>\n",
              "      <td>NaN</td>\n",
              "      <td>Orange</td>\n",
              "    </tr>\n",
              "    <tr>\n",
              "      <th>4</th>\n",
              "      <td>2509</td>\n",
              "      <td>59.0</td>\n",
              "      <td>7</td>\n",
              "      <td>134</td>\n",
              "      <td>10</td>\n",
              "      <td>900</td>\n",
              "      <td>226</td>\n",
              "      <td>226</td>\n",
              "      <td>134</td>\n",
              "      <td>5184</td>\n",
              "      <td>0.93</td>\n",
              "      <td>88</td>\n",
              "      <td>FC11</td>\n",
              "      <td>CA38</td>\n",
              "      <td>NaN</td>\n",
              "      <td>Melon</td>\n",
              "    </tr>\n",
              "  </tbody>\n",
              "</table>\n",
              "</div>\n",
              "      <button class=\"colab-df-convert\" onclick=\"convertToInteractive('df-1839ebaf-5974-4b02-8b0d-36f32b8b991b')\"\n",
              "              title=\"Convert this dataframe to an interactive table.\"\n",
              "              style=\"display:none;\">\n",
              "        \n",
              "  <svg xmlns=\"http://www.w3.org/2000/svg\" height=\"24px\"viewBox=\"0 0 24 24\"\n",
              "       width=\"24px\">\n",
              "    <path d=\"M0 0h24v24H0V0z\" fill=\"none\"/>\n",
              "    <path d=\"M18.56 5.44l.94 2.06.94-2.06 2.06-.94-2.06-.94-.94-2.06-.94 2.06-2.06.94zm-11 1L8.5 8.5l.94-2.06 2.06-.94-2.06-.94L8.5 2.5l-.94 2.06-2.06.94zm10 10l.94 2.06.94-2.06 2.06-.94-2.06-.94-.94-2.06-.94 2.06-2.06.94z\"/><path d=\"M17.41 7.96l-1.37-1.37c-.4-.4-.92-.59-1.43-.59-.52 0-1.04.2-1.43.59L10.3 9.45l-7.72 7.72c-.78.78-.78 2.05 0 2.83L4 21.41c.39.39.9.59 1.41.59.51 0 1.02-.2 1.41-.59l7.78-7.78 2.81-2.81c.8-.78.8-2.07 0-2.86zM5.41 20L4 18.59l7.72-7.72 1.47 1.35L5.41 20z\"/>\n",
              "  </svg>\n",
              "      </button>\n",
              "      \n",
              "  <style>\n",
              "    .colab-df-container {\n",
              "      display:flex;\n",
              "      flex-wrap:wrap;\n",
              "      gap: 12px;\n",
              "    }\n",
              "\n",
              "    .colab-df-convert {\n",
              "      background-color: #E8F0FE;\n",
              "      border: none;\n",
              "      border-radius: 50%;\n",
              "      cursor: pointer;\n",
              "      display: none;\n",
              "      fill: #1967D2;\n",
              "      height: 32px;\n",
              "      padding: 0 0 0 0;\n",
              "      width: 32px;\n",
              "    }\n",
              "\n",
              "    .colab-df-convert:hover {\n",
              "      background-color: #E2EBFA;\n",
              "      box-shadow: 0px 1px 2px rgba(60, 64, 67, 0.3), 0px 1px 3px 1px rgba(60, 64, 67, 0.15);\n",
              "      fill: #174EA6;\n",
              "    }\n",
              "\n",
              "    [theme=dark] .colab-df-convert {\n",
              "      background-color: #3B4455;\n",
              "      fill: #D2E3FC;\n",
              "    }\n",
              "\n",
              "    [theme=dark] .colab-df-convert:hover {\n",
              "      background-color: #434B5C;\n",
              "      box-shadow: 0px 1px 3px 1px rgba(0, 0, 0, 0.15);\n",
              "      filter: drop-shadow(0px 1px 2px rgba(0, 0, 0, 0.3));\n",
              "      fill: #FFFFFF;\n",
              "    }\n",
              "  </style>\n",
              "\n",
              "      <script>\n",
              "        const buttonEl =\n",
              "          document.querySelector('#df-1839ebaf-5974-4b02-8b0d-36f32b8b991b button.colab-df-convert');\n",
              "        buttonEl.style.display =\n",
              "          google.colab.kernel.accessAllowed ? 'block' : 'none';\n",
              "\n",
              "        async function convertToInteractive(key) {\n",
              "          const element = document.querySelector('#df-1839ebaf-5974-4b02-8b0d-36f32b8b991b');\n",
              "          const dataTable =\n",
              "            await google.colab.kernel.invokeFunction('convertToInteractive',\n",
              "                                                     [key], {});\n",
              "          if (!dataTable) return;\n",
              "\n",
              "          const docLinkHtml = 'Like what you see? Visit the ' +\n",
              "            '<a target=\"_blank\" href=https://colab.research.google.com/notebooks/data_table.ipynb>data table notebook</a>'\n",
              "            + ' to learn more about interactive tables.';\n",
              "          element.innerHTML = '';\n",
              "          dataTable['output_type'] = 'display_data';\n",
              "          await google.colab.output.renderOutput(dataTable, element);\n",
              "          const docLink = document.createElement('div');\n",
              "          docLink.innerHTML = docLinkHtml;\n",
              "          element.appendChild(docLink);\n",
              "        }\n",
              "      </script>\n",
              "    </div>\n",
              "  </div>\n",
              "  "
            ]
          },
          "metadata": {}
        }
      ],
      "source": [
        "data_df = pd.read_csv('Dataset-vf.csv')\n",
        "display(data_df.head())\n"
      ]
    },
    {
      "cell_type": "code",
      "execution_count": 4,
      "id": "24fdacd5",
      "metadata": {
        "colab": {
          "base_uri": "https://localhost:8080/"
        },
        "id": "24fdacd5",
        "outputId": "cd1da678-1164-4c18-b34b-20a56a630131"
      },
      "outputs": [
        {
          "output_type": "stream",
          "name": "stdout",
          "text": [
            "           X1        X2        X3        X4        X5        X6        X7  \\\n",
            "X1   1.000000  0.002910 -0.333203  0.329017 -0.002311  0.606769  0.072518   \n",
            "X2   0.002910  1.000000 -0.000115  0.019119  0.015753  0.075033 -0.591731   \n",
            "X3  -0.333203 -0.000115  1.000000  0.018341  0.363640 -0.327663 -0.134366   \n",
            "X4   0.329017  0.019119  0.018341  1.000000  0.624466  0.130159 -0.019646   \n",
            "X5  -0.002311  0.015753  0.363640  0.624466  1.000000 -0.113061 -0.050173   \n",
            "X6   0.606769  0.075033 -0.327663  0.130159 -0.113061  1.000000 -0.024238   \n",
            "X7   0.072518 -0.591731 -0.134366 -0.019646 -0.050173 -0.024238  1.000000   \n",
            "X8   0.229464  0.335285 -0.656795  0.047840 -0.213299  0.267689 -0.039172   \n",
            "X9   0.122600  0.624552 -0.401927  0.038178 -0.131816  0.211251 -0.776999   \n",
            "X10  0.463866 -0.053026 -0.235959  0.115299 -0.089477  0.445928  0.064237   \n",
            "X11  0.001618 -0.028583  0.010468 -0.005063 -0.004616 -0.002762  0.011532   \n",
            "X12 -0.002352 -0.012410  0.005183 -0.004866 -0.009564 -0.005791  0.016630   \n",
            "\n",
            "           X8        X9       X10       X11       X12  \n",
            "X1   0.229464  0.122600  0.463866  0.001618 -0.002352  \n",
            "X2   0.335285  0.624552 -0.053026 -0.028583 -0.012410  \n",
            "X3  -0.656795 -0.401927 -0.235959  0.010468  0.005183  \n",
            "X4   0.047840  0.038178  0.115299 -0.005063 -0.004866  \n",
            "X5  -0.213299 -0.131816 -0.089477 -0.004616 -0.009564  \n",
            "X6   0.267689  0.211251  0.445928 -0.002762 -0.005791  \n",
            "X7  -0.039172 -0.776999  0.064237  0.011532  0.016630  \n",
            "X8   1.000000  0.637684  0.122884 -0.034126  0.001968  \n",
            "X9   0.637684  1.000000  0.054301 -0.028194 -0.011236  \n",
            "X10  0.122884  0.054301  1.000000  0.012534 -0.004848  \n",
            "X11 -0.034126 -0.028194  0.012534  1.000000  0.010958  \n",
            "X12  0.001968 -0.011236 -0.004848  0.010958  1.000000  \n"
          ]
        },
        {
          "output_type": "stream",
          "name": "stderr",
          "text": [
            "<ipython-input-4-73b4a91b0e8c>:1: FutureWarning: The default value of numeric_only in DataFrame.corr is deprecated. In a future version, it will default to False. Select only valid columns or specify the value of numeric_only to silence this warning.\n",
            "  print(data_df.corr())\n"
          ]
        }
      ],
      "source": [
        "print(data_df.corr())"
      ]
    },
    {
      "cell_type": "code",
      "execution_count": 5,
      "id": "d2944eba",
      "metadata": {
        "colab": {
          "base_uri": "https://localhost:8080/"
        },
        "id": "d2944eba",
        "outputId": "6c9ca6e6-107f-4c89-e072-e387871288bc"
      },
      "outputs": [
        {
          "output_type": "stream",
          "name": "stdout",
          "text": [
            "<class 'pandas.core.frame.DataFrame'>\n",
            "RangeIndex: 6374 entries, 0 to 6373\n",
            "Data columns (total 16 columns):\n",
            " #   Column  Non-Null Count  Dtype  \n",
            "---  ------  --------------  -----  \n",
            " 0   X1      6374 non-null   int64  \n",
            " 1   X2      5747 non-null   float64\n",
            " 2   X3      6374 non-null   int64  \n",
            " 3   X4      6374 non-null   int64  \n",
            " 4   X5      6374 non-null   int64  \n",
            " 5   X6      6374 non-null   int64  \n",
            " 6   X7      6374 non-null   int64  \n",
            " 7   X8      6374 non-null   int64  \n",
            " 8   X9      6374 non-null   int64  \n",
            " 9   X10     6374 non-null   int64  \n",
            " 10  X11     6374 non-null   float64\n",
            " 11  X12     6374 non-null   int64  \n",
            " 12  X13     6374 non-null   object \n",
            " 13  X14     6374 non-null   object \n",
            " 14  X15     631 non-null    object \n",
            " 15  Y       6374 non-null   object \n",
            "dtypes: float64(2), int64(10), object(4)\n",
            "memory usage: 796.9+ KB\n"
          ]
        }
      ],
      "source": [
        "data_df.info()"
      ]
    },
    {
      "cell_type": "code",
      "execution_count": 6,
      "id": "37bde20b",
      "metadata": {
        "id": "37bde20b"
      },
      "outputs": [],
      "source": [
        "data_df.drop(\"X15\", axis = 1,inplace=True)"
      ]
    },
    {
      "cell_type": "code",
      "execution_count": 7,
      "id": "a46e7c22",
      "metadata": {
        "colab": {
          "base_uri": "https://localhost:8080/"
        },
        "id": "a46e7c22",
        "outputId": "04c3a1b7-e9d4-406b-b6a9-44c9f2aac668"
      },
      "outputs": [
        {
          "output_type": "stream",
          "name": "stdout",
          "text": [
            "<class 'pandas.core.frame.DataFrame'>\n",
            "RangeIndex: 6374 entries, 0 to 6373\n",
            "Data columns (total 15 columns):\n",
            " #   Column  Non-Null Count  Dtype  \n",
            "---  ------  --------------  -----  \n",
            " 0   X1      6374 non-null   int64  \n",
            " 1   X2      5747 non-null   float64\n",
            " 2   X3      6374 non-null   int64  \n",
            " 3   X4      6374 non-null   int64  \n",
            " 4   X5      6374 non-null   int64  \n",
            " 5   X6      6374 non-null   int64  \n",
            " 6   X7      6374 non-null   int64  \n",
            " 7   X8      6374 non-null   int64  \n",
            " 8   X9      6374 non-null   int64  \n",
            " 9   X10     6374 non-null   int64  \n",
            " 10  X11     6374 non-null   float64\n",
            " 11  X12     6374 non-null   int64  \n",
            " 12  X13     6374 non-null   object \n",
            " 13  X14     6374 non-null   object \n",
            " 14  Y       6374 non-null   object \n",
            "dtypes: float64(2), int64(10), object(3)\n",
            "memory usage: 747.1+ KB\n"
          ]
        }
      ],
      "source": [
        "data_df.info()\n"
      ]
    },
    {
      "cell_type": "code",
      "execution_count": null,
      "id": "179060a0",
      "metadata": {
        "id": "179060a0"
      },
      "outputs": [],
      "source": [
        "#data_df[\"X2\"] = data_df[\"X2\"].fillna(data_df[\"X2\"].mean())"
      ]
    },
    {
      "cell_type": "code",
      "execution_count": null,
      "id": "fa42fe57",
      "metadata": {
        "id": "fa42fe57"
      },
      "outputs": [],
      "source": []
    },
    {
      "cell_type": "code",
      "execution_count": 8,
      "id": "88ff6a91",
      "metadata": {
        "colab": {
          "base_uri": "https://localhost:8080/"
        },
        "id": "88ff6a91",
        "outputId": "16053f0a-d812-46b2-b5e7-038dbf1cda20"
      },
      "outputs": [
        {
          "output_type": "stream",
          "name": "stdout",
          "text": [
            "<class 'pandas.core.frame.DataFrame'>\n",
            "RangeIndex: 6374 entries, 0 to 6373\n",
            "Data columns (total 15 columns):\n",
            " #   Column  Non-Null Count  Dtype  \n",
            "---  ------  --------------  -----  \n",
            " 0   X1      6374 non-null   int64  \n",
            " 1   X2      5747 non-null   float64\n",
            " 2   X3      6374 non-null   int64  \n",
            " 3   X4      6374 non-null   int64  \n",
            " 4   X5      6374 non-null   int64  \n",
            " 5   X6      6374 non-null   int64  \n",
            " 6   X7      6374 non-null   int64  \n",
            " 7   X8      6374 non-null   int64  \n",
            " 8   X9      6374 non-null   int64  \n",
            " 9   X10     6374 non-null   int64  \n",
            " 10  X11     6374 non-null   float64\n",
            " 11  X12     6374 non-null   int64  \n",
            " 12  X13     6374 non-null   object \n",
            " 13  X14     6374 non-null   object \n",
            " 14  Y       6374 non-null   object \n",
            "dtypes: float64(2), int64(10), object(3)\n",
            "memory usage: 747.1+ KB\n"
          ]
        }
      ],
      "source": [
        "data_df.info()"
      ]
    },
    {
      "cell_type": "markdown",
      "id": "cd783abf",
      "metadata": {
        "id": "cd783abf"
      },
      "source": [
        "# One hot encoding "
      ]
    },
    {
      "cell_type": "code",
      "execution_count": 9,
      "id": "69e572a2",
      "metadata": {
        "colab": {
          "base_uri": "https://localhost:8080/"
        },
        "id": "69e572a2",
        "outputId": "f7fd68b1-ed8d-4382-9487-88770fd31014"
      },
      "outputs": [
        {
          "output_type": "stream",
          "name": "stdout",
          "text": [
            "           X1        X2        X3        X4        X5        X6        X7  \\\n",
            "X1   1.000000  0.002910 -0.333203  0.329017 -0.002311  0.606769  0.072518   \n",
            "X2   0.002910  1.000000 -0.000115  0.019119  0.015753  0.075033 -0.591731   \n",
            "X3  -0.333203 -0.000115  1.000000  0.018341  0.363640 -0.327663 -0.134366   \n",
            "X4   0.329017  0.019119  0.018341  1.000000  0.624466  0.130159 -0.019646   \n",
            "X5  -0.002311  0.015753  0.363640  0.624466  1.000000 -0.113061 -0.050173   \n",
            "X6   0.606769  0.075033 -0.327663  0.130159 -0.113061  1.000000 -0.024238   \n",
            "X7   0.072518 -0.591731 -0.134366 -0.019646 -0.050173 -0.024238  1.000000   \n",
            "X8   0.229464  0.335285 -0.656795  0.047840 -0.213299  0.267689 -0.039172   \n",
            "X9   0.122600  0.624552 -0.401927  0.038178 -0.131816  0.211251 -0.776999   \n",
            "X10  0.463866 -0.053026 -0.235959  0.115299 -0.089477  0.445928  0.064237   \n",
            "X11  0.001618 -0.028583  0.010468 -0.005063 -0.004616 -0.002762  0.011532   \n",
            "X12 -0.002352 -0.012410  0.005183 -0.004866 -0.009564 -0.005791  0.016630   \n",
            "Y    0.081761 -0.087307  0.008778 -0.075146 -0.022035 -0.058186  0.142546   \n",
            "\n",
            "           X8        X9       X10       X11       X12         Y  \n",
            "X1   0.229464  0.122600  0.463866  0.001618 -0.002352  0.081761  \n",
            "X2   0.335285  0.624552 -0.053026 -0.028583 -0.012410 -0.087307  \n",
            "X3  -0.656795 -0.401927 -0.235959  0.010468  0.005183  0.008778  \n",
            "X4   0.047840  0.038178  0.115299 -0.005063 -0.004866 -0.075146  \n",
            "X5  -0.213299 -0.131816 -0.089477 -0.004616 -0.009564 -0.022035  \n",
            "X6   0.267689  0.211251  0.445928 -0.002762 -0.005791 -0.058186  \n",
            "X7  -0.039172 -0.776999  0.064237  0.011532  0.016630  0.142546  \n",
            "X8   1.000000  0.637684  0.122884 -0.034126  0.001968 -0.012299  \n",
            "X9   0.637684  1.000000  0.054301 -0.028194 -0.011236 -0.116755  \n",
            "X10  0.122884  0.054301  1.000000  0.012534 -0.004848  0.130925  \n",
            "X11 -0.034126 -0.028194  0.012534  1.000000  0.010958  0.017557  \n",
            "X12  0.001968 -0.011236 -0.004848  0.010958  1.000000 -0.005943  \n",
            "Y   -0.012299 -0.116755  0.130925  0.017557 -0.005943  1.000000  \n"
          ]
        },
        {
          "output_type": "stream",
          "name": "stderr",
          "text": [
            "<ipython-input-9-d2e7f3274598>:3: FutureWarning: The default value of numeric_only in DataFrame.corr is deprecated. In a future version, it will default to False. Select only valid columns or specify the value of numeric_only to silence this warning.\n",
            "  print(data_df.corr())\n"
          ]
        }
      ],
      "source": [
        "#Convert Y from words to numbers\n",
        "le = LabelEncoder()\n",
        "data_df['Y'] = le.fit_transform(data_df['Y'])\n",
        "print(data_df.corr())"
      ]
    },
    {
      "cell_type": "code",
      "execution_count": 10,
      "id": "0d8d7257",
      "metadata": {
        "colab": {
          "base_uri": "https://localhost:8080/"
        },
        "id": "0d8d7257",
        "outputId": "a52fa6b8-9945-4b40-840e-2a902a1dec51"
      },
      "outputs": [
        {
          "output_type": "stream",
          "name": "stdout",
          "text": [
            "        X1     X2  X3   X4   X5    X6   X7   X8   X9   X10  ...  X14_ CA50  \\\n",
            "0     2709   59.0  11  120   43   150  228  217  120  2114  ...          0   \n",
            "1     2802   54.0   7    0    0   693  224  225  136   162  ...          1   \n",
            "2     2325   28.0  12    0    0  1260  215  213  133   162  ...          0   \n",
            "3     2837  112.0   8  272   16  3649  235  231  128  6221  ...          0   \n",
            "4     2509   59.0   7  134   10   900  226  226  134  5184  ...          0   \n",
            "...    ...    ...  ..  ...  ...   ...  ...  ...  ...   ...  ...        ...   \n",
            "6369  3101   67.0   6  170    1   824  227  228  135  1657  ...          0   \n",
            "6370  3050  139.0  13   30   -3  3127  240  235  123  5770  ...          0   \n",
            "6371  2080  106.0  24   30   12   582  252  202   64   108  ...          0   \n",
            "6372  3011  108.0  10  212   36  2912  237  229  122  6632  ...          0   \n",
            "6373  1980    3.0  22  300  125   300  185  193  140   927  ...          0   \n",
            "\n",
            "      X14_ CA51  X14_ CA52  X14_ CA53  X14_ CA54  X14_ CA55  X14_ CA58  \\\n",
            "0             0          0          0          0          0          0   \n",
            "1             0          0          0          0          0          0   \n",
            "2             0          0          0          0          0          0   \n",
            "3             0          0          0          0          0          0   \n",
            "4             0          0          0          0          0          0   \n",
            "...         ...        ...        ...        ...        ...        ...   \n",
            "6369          0          0          0          0          0          0   \n",
            "6370          0          0          0          0          0          0   \n",
            "6371          0          0          0          0          0          0   \n",
            "6372          0          0          0          0          0          0   \n",
            "6373          0          0          0          0          0          0   \n",
            "\n",
            "      X14_ CA59  X14_ CA60  Y  \n",
            "0             0          0  4  \n",
            "1             0          0  4  \n",
            "2             0          0  2  \n",
            "3             0          0  5  \n",
            "4             0          0  4  \n",
            "...         ...        ... ..  \n",
            "6369          0          0  0  \n",
            "6370          0          0  0  \n",
            "6371          0          0  2  \n",
            "6372          0          0  0  \n",
            "6373          0          0  3  \n",
            "\n",
            "[6374 rows x 49 columns]\n"
          ]
        }
      ],
      "source": [
        "\n",
        "#Generate more features from existing ones\n",
        "X13 = pd.get_dummies(data_df['X13'], prefix='X13')\n",
        "X14 = pd.get_dummies(data_df['X14'], prefix='X14')\n",
        "\n",
        "data_df = data_df.drop('X13',axis = 1)\n",
        "data_df = data_df.drop('X14',axis = 1)\n",
        "\n",
        "data_df = data_df.join(X13)\n",
        "data_df = data_df.join(X14)\n",
        "\n",
        "last_column = data_df.pop(\"Y\")\n",
        "data_df.insert(48,\"Y\", last_column)\n",
        "print(data_df)\n",
        "\n"
      ]
    },
    {
      "cell_type": "markdown",
      "id": "87b002f3",
      "metadata": {
        "id": "87b002f3"
      },
      "source": [
        "# Fill missing data"
      ]
    },
    {
      "cell_type": "code",
      "execution_count": 11,
      "id": "4d874c2d",
      "metadata": {
        "id": "4d874c2d"
      },
      "outputs": [],
      "source": [
        "data_df = np.array(data_df)\n",
        "data = data_df[:,:-1]\n",
        "labels = data_df[:,-1:]"
      ]
    },
    {
      "cell_type": "code",
      "execution_count": 12,
      "id": "bfbda5a6",
      "metadata": {
        "id": "bfbda5a6"
      },
      "outputs": [],
      "source": [
        "from sklearn.experimental import enable_iterative_imputer\n",
        "from sklearn.impute import IterativeImputer\n"
      ]
    },
    {
      "cell_type": "code",
      "execution_count": 13,
      "id": "743c0497",
      "metadata": {
        "colab": {
          "base_uri": "https://localhost:8080/"
        },
        "id": "743c0497",
        "outputId": "24a6c854-9762-4166-c273-8ae679f0a46b"
      },
      "outputs": [
        {
          "output_type": "stream",
          "name": "stdout",
          "text": [
            "X_data=(6374, 48)\n",
            "X_train=(4461, 48), X_val=(957, 48), X_test=(956, 48)\n",
            "y_train=(4461, 1), y_val=(957, 1), y_test=(956, 1)\n",
            "\n",
            "number of classes is  =  7\n",
            "No. of training samples: 4461\n",
            "Number of features per sample: 48\n",
            "\n",
            "class % in y_train = [0.2  0.2  0.25 0.04 0.25 0.02 0.05]\n",
            "class % in y_val   = [0.2  0.2  0.25 0.04 0.25 0.02 0.05]\n",
            "class % in y_test  = [0.2  0.2  0.25 0.04 0.25 0.02 0.05]\n"
          ]
        }
      ],
      "source": [
        "X_train, X_test, y_train, y_test = train_test_split(data, labels, train_size=0.7, random_state=201827000, stratify=labels)\n",
        "X_test, X_val, y_test, y_val = train_test_split(X_test, y_test, train_size=0.5, random_state=201827000, stratify=y_test)\n",
        "\n",
        "\n",
        "impute_it = IterativeImputer().fit(X_train)\n",
        "X_train = impute_it.transform(X_train)\n",
        "X_val = impute_it.transform(X_val)\n",
        "X_test =impute_it.transform(X_test) \n",
        "\n",
        "\n",
        "print('X_data={}'.format(data.shape))\n",
        "print('X_train={}, X_val={}, X_test={}'.format(X_train.shape, X_val.shape, X_test.shape))\n",
        "print('y_train={}, y_val={}, y_test={}'.format(y_train.shape, y_val.shape, y_test.shape))\n",
        "print()\n",
        "print('number of classes is  = ',(len(np.unique(y_train))))\n",
        "print ('No. of training samples: ' + str(X_train.shape[0]))\n",
        "print ('Number of features per sample: ' + str(X_train.shape[1]))\n",
        "print()\n",
        "print('class % in y_train = {}'.format((np.unique(y_train, return_counts=True)[1]/y_train.shape[0]).round(2)))\n",
        "print('class % in y_val   = {}'.format((np.unique(y_val, return_counts=True)[1]/y_val.shape[0]).round(2)))\n",
        "print('class % in y_test  = {}'.format((np.unique(y_test, return_counts=True)[1]/y_test.shape[0]).round(2)))"
      ]
    },
    {
      "cell_type": "code",
      "execution_count": 14,
      "id": "7515d90a",
      "metadata": {
        "colab": {
          "base_uri": "https://localhost:8080/"
        },
        "id": "7515d90a",
        "outputId": "71b49d1b-d735-4096-a490-15084473a2ab"
      },
      "outputs": [
        {
          "output_type": "stream",
          "name": "stdout",
          "text": [
            "0.0\n"
          ]
        }
      ],
      "source": [
        "print(np.isnan(X_train).sum() / X_train.size)"
      ]
    },
    {
      "cell_type": "markdown",
      "id": "601149bc",
      "metadata": {
        "id": "601149bc"
      },
      "source": [
        "# Future selection based on lasso"
      ]
    },
    {
      "cell_type": "code",
      "execution_count": 16,
      "id": "8c22e734",
      "metadata": {
        "colab": {
          "base_uri": "https://localhost:8080/"
        },
        "id": "8c22e734",
        "outputId": "dea11b77-7580-4b6c-e8b8-55f3fa8e1938"
      },
      "outputs": [
        {
          "output_type": "stream",
          "name": "stdout",
          "text": [
            "(4461, 27)\n",
            "(957, 27)\n",
            "(956, 27)\n",
            "(956, 1)\n"
          ]
        },
        {
          "output_type": "stream",
          "name": "stderr",
          "text": [
            "/usr/local/lib/python3.10/dist-packages/sklearn/svm/_base.py:1244: ConvergenceWarning: Liblinear failed to converge, increase the number of iterations.\n",
            "  warnings.warn(\n"
          ]
        }
      ],
      "source": [
        "from sklearn.svm import LinearSVC\n",
        "from sklearn.feature_selection import SelectFromModel\n",
        "\n",
        "lsvc = LinearSVC(C=0.01, penalty=\"l1\", dual=False).fit(X_train, y_train.ravel())\n",
        "model = SelectFromModel(lsvc, prefit=True)\n",
        "X_new = model.transform(X_train)\n",
        "X_new_val = model.transform(X_val)\n",
        "X_new_test = model.transform(X_test)\n",
        "print(X_new.shape)\n",
        "print(X_new_val.shape)\n",
        "print(X_new_test.shape)\n",
        "print(y_test.shape)"
      ]
    },
    {
      "cell_type": "markdown",
      "id": "af0506d3",
      "metadata": {
        "id": "af0506d3"
      },
      "source": [
        "# Over sampling using smote"
      ]
    },
    {
      "cell_type": "code",
      "execution_count": 17,
      "id": "e3049523",
      "metadata": {
        "colab": {
          "base_uri": "https://localhost:8080/"
        },
        "id": "e3049523",
        "outputId": "80a9c1e0-7f57-4f12-dbdd-d267f50abe52"
      },
      "outputs": [
        {
          "output_type": "stream",
          "name": "stdout",
          "text": [
            "raw_data=(6374, 48)\n",
            "X_train=(7938, 27), X_val=(957, 27), X_test=(956, 27)\n",
            "y_train=(7938,), y_val=(957, 1), y_test=(956, 1)\n",
            "\n",
            "number of classes is  =  7\n",
            "No. of training samples: 7938\n",
            "Number of features per sample: 27\n",
            "\n",
            "class % in y_train = [0.14 0.14 0.14 0.14 0.14 0.14 0.14]\n",
            "class % in y_val = [0.2  0.2  0.25 0.04 0.25 0.02 0.05]\n",
            "class % in y_test = [0.2  0.2  0.25 0.04 0.25 0.02 0.05]\n"
          ]
        }
      ],
      "source": [
        "oversampling = SMOTE(sampling_strategy='auto')\n",
        "X_train_over_sample,y_train_over_sample = oversampling.fit_resample(X_new,y_train)\n",
        "\n",
        "print('raw_data={}'.format(data.shape))\n",
        "print('X_train={}, X_val={}, X_test={}'.format(X_train_over_sample.shape, X_new_val.shape, X_new_test.shape))\n",
        "print('y_train={}, y_val={}, y_test={}'.format(y_train_over_sample.shape, y_val.shape, y_test.shape))\n",
        "print()\n",
        "print('number of classes is  = ',(len(np.unique(y_train_over_sample))))\n",
        "print ('No. of training samples: ' + str(X_train_over_sample.shape[0]))\n",
        "print ('Number of features per sample: ' + str(X_train_over_sample.shape[1]))\n",
        "print()\n",
        "print('class % in y_train = {}'.format((np.unique(y_train_over_sample, return_counts=True)[1]/y_train_over_sample.shape[0]).round(2)))\n",
        "print('class % in y_val = {}'.format((np.unique(y_val, return_counts=True)[1]/y_val.shape[0]).round(2)))\n",
        "print('class % in y_test = {}'.format((np.unique(y_test, return_counts=True)[1]/y_test.shape[0]).round(2)))"
      ]
    },
    {
      "cell_type": "markdown",
      "id": "9364968a",
      "metadata": {
        "id": "9364968a"
      },
      "source": [
        "# Scalling for all sets "
      ]
    },
    {
      "cell_type": "code",
      "execution_count": 18,
      "id": "66ff41d4",
      "metadata": {
        "id": "66ff41d4"
      },
      "outputs": [],
      "source": [
        "scaler = preprocessing.StandardScaler().fit(X_train_over_sample)\n",
        "train_data = scaler.transform(X_train_over_sample)\n",
        "val_data = scaler.transform(X_new_val)\n",
        "test_data = scaler.transform(X_new_test)"
      ]
    },
    {
      "cell_type": "markdown",
      "id": "46d3c9c8",
      "metadata": {
        "id": "46d3c9c8"
      },
      "source": [
        "# List of appropriate evaluation measures"
      ]
    },
    {
      "cell_type": "markdown",
      "id": "cd490ba3",
      "metadata": {
        "id": "cd490ba3"
      },
      "source": [
        "Precision: It measures the proportion of positive predictions that are actually correct.\n",
        "\n",
        "Recall: It measures the proportion of positive examples that were correctly identified.\n",
        "\n",
        "F1 score: It is a balance between precision and recall.\n",
        "\n",
        "AUC-ROC: It measures the ability of a classifier to distinguish between positive and negative examples."
      ]
    },
    {
      "cell_type": "markdown",
      "id": "bff5c6b1",
      "metadata": {
        "id": "bff5c6b1"
      },
      "source": [
        "I choose F1 because its best way to measure evaluation because combine recall and precision together  "
      ]
    },
    {
      "cell_type": "markdown",
      "id": "790aae11",
      "metadata": {
        "id": "790aae11"
      },
      "source": [
        "# SVM classifier "
      ]
    },
    {
      "cell_type": "code",
      "execution_count": 19,
      "id": "7dee4590",
      "metadata": {
        "colab": {
          "base_uri": "https://localhost:8080/"
        },
        "id": "7dee4590",
        "outputId": "7bf8fc76-8191-4101-f12b-ef6ec06a2150"
      },
      "outputs": [
        {
          "output_type": "stream",
          "name": "stdout",
          "text": [
            "Setting degree=1, train_acc=0.85, val_acc=0.82\n",
            "Setting degree=2, train_acc=0.90, val_acc=0.87\n",
            "Setting degree=3, train_acc=0.92, val_acc=0.88\n",
            "Setting degree=4, train_acc=0.90, val_acc=0.84\n",
            "Setting degree=5, train_acc=0.87, val_acc=0.82\n",
            "Setting degree=6, train_acc=0.85, val_acc=0.77\n",
            "Setting degree=7, train_acc=0.80, val_acc=0.78\n",
            "Setting degree=8, train_acc=0.76, val_acc=0.78\n",
            "Setting degree=9, train_acc=0.74, val_acc=0.75\n",
            "Setting degree=10, train_acc=0.73, val_acc=0.74\n",
            "Best setting for poly degree=3, val_acc=0.88\n",
            "\n",
            "linear train_acc=0.87, val_acc=0.84\n",
            "rbf train_acc=0.92, val_acc=0.89\n",
            "Best setting is rbf val_acc=0.89\n"
          ]
        }
      ],
      "source": [
        "from sklearn.svm import SVC\n",
        "from sklearn.metrics import f1_score\n",
        "\n",
        "degrees_list = [1, 2, 3, 4,5,6,7,8,9,10]\n",
        "best_degree = 1\n",
        "best_acc = 0.0\n",
        "Choice = 0\n",
        "for degree_val in degrees_list:\n",
        "    clf = SVC(kernel = 'poly', degree = degree_val, random_state = 777)\n",
        "    clf.fit(train_data,y_train_over_sample)\n",
        "    y_pred_on_train = clf.predict(train_data)\n",
        "    train_acc = f1_score(y_true=y_train_over_sample, y_pred=y_pred_on_train,average = \"weighted\")\n",
        "    \n",
        "    y_pred_on_val = clf.predict(val_data)\n",
        "    val_acc = f1_score(y_true=y_val, y_pred=y_pred_on_val,average = \"weighted\" )\n",
        "    \n",
        "    print(\"Setting degree={}, train_acc={:.2f}, val_acc={:.2f}\".format(degree_val, train_acc, val_acc))\n",
        "    if val_acc > best_acc:\n",
        "        best_acc = val_acc\n",
        "        best_degree = degree_val\n",
        "        Choice = 1\n",
        "print(\"Best setting for poly degree={}, val_acc={:.2f}\".format(best_degree, best_acc))\n",
        "print()    \n",
        "clf = SVC(kernel = 'linear', random_state = 777)\n",
        "clf.fit(train_data,y_train_over_sample)\n",
        "y_pred_on_train = clf.predict(train_data)\n",
        "train_acc = f1_score(y_true=y_train_over_sample, y_pred=y_pred_on_train, average = \"weighted\")\n",
        "\n",
        "y_pred_on_val = clf.predict(val_data)\n",
        "val_acc = f1_score(y_true=y_val, y_pred=y_pred_on_val, average = \"weighted\")\n",
        "\n",
        "print(\"linear train_acc={:.2f}, val_acc={:.2f}\".format( train_acc, val_acc))\n",
        "\n",
        "if val_acc > best_acc:\n",
        "        best_acc = val_acc\n",
        "        Choice = 2 \n",
        "\n",
        "clf = SVC(kernel = 'rbf', random_state = 777)\n",
        "clf.fit(train_data,y_train_over_sample)\n",
        "y_pred_on_train = clf.predict(train_data)\n",
        "train_acc = f1_score(y_true=y_train_over_sample, y_pred=y_pred_on_train, average = \"weighted\")\n",
        "\n",
        "y_pred_on_val = clf.predict(val_data)\n",
        "val_acc = f1_score(y_true=y_val, y_pred=y_pred_on_val, average = \"weighted\")\n",
        "\n",
        "print(\"rbf train_acc={:.2f}, val_acc={:.2f}\".format( train_acc, val_acc))\n",
        "\n",
        "if val_acc > best_acc:\n",
        "        best_acc = val_acc\n",
        "        Choice = 3\n",
        "\n",
        "if Choice == 1:\n",
        "    print(\"Best setting is poly degree={}, val_acc={:.2f}\".format(best_degree, best_acc))\n",
        "if Choice == 2:\n",
        "    print(\"Best setting is linear val_acc={:.2f}\".format(best_acc))\n",
        "if Choice == 3:\n",
        "    print(\"Best setting is rbf val_acc={:.2f}\".format(best_acc))"
      ]
    },
    {
      "cell_type": "markdown",
      "id": "2d5bee65",
      "metadata": {
        "id": "2d5bee65"
      },
      "source": [
        "# Results on the test set"
      ]
    },
    {
      "cell_type": "code",
      "execution_count": 20,
      "id": "8f5b6912",
      "metadata": {
        "colab": {
          "base_uri": "https://localhost:8080/"
        },
        "id": "8f5b6912",
        "outputId": "e7eb8707-4234-4e88-c087-2e0e7eceff2b"
      },
      "outputs": [
        {
          "output_type": "stream",
          "name": "stdout",
          "text": [
            "Best setting rbf test_acc=0.87\n",
            "the confusion matrix as shown\n",
            " [[157   0   0   0  14   8  12]\n",
            " [  0 137  28   9  13   0   0]\n",
            " [  0  12 228   3   0   0   0]\n",
            " [  0   5   0  33   0   0   0]\n",
            " [  7   5   0   3 213   8   0]\n",
            " [  0   0   0   0   1  14   0]\n",
            " [  2   0   0   0   0   0  44]]\n",
            "              precision    recall  f1-score   support\n",
            "\n",
            "         0.0       0.95      0.82      0.88       191\n",
            "         1.0       0.86      0.73      0.79       187\n",
            "         2.0       0.89      0.94      0.91       243\n",
            "         3.0       0.69      0.87      0.77        38\n",
            "         4.0       0.88      0.90      0.89       236\n",
            "         5.0       0.47      0.93      0.62        15\n",
            "         6.0       0.79      0.96      0.86        46\n",
            "\n",
            "    accuracy                           0.86       956\n",
            "   macro avg       0.79      0.88      0.82       956\n",
            "weighted avg       0.87      0.86      0.87       956\n",
            "\n",
            "\n",
            "F1-Weighted = 0.87\n",
            "F1-Macro = 0.82\n",
            "MCC = 0.83\n",
            "Gmean = 0.88\n"
          ]
        }
      ],
      "source": [
        "X_train_val_merge = np.vstack([train_data, val_data]) \n",
        "y_train_val_merge = np.vstack([y_train_over_sample.reshape(y_train_over_sample.shape[0],1), y_val.reshape(y_val.shape[0],1)]) \n",
        "clf = SVC(kernel = 'rbf', random_state = 777)\n",
        "clf.fit(X_train_val_merge,y_train_val_merge.ravel())\n",
        "y_pred_on_test = clf.predict(test_data)\n",
        "test_acc = f1_score(y_true=y_test.ravel(), y_pred=y_pred_on_test.ravel(), average = \"weighted\")\n",
        "print(\"Best setting rbf test_acc={:.2f}\".format(test_acc))\n",
        "test_acc_Macro = f1_score(y_true=y_test.ravel(), y_pred=y_pred_on_test.ravel(), average = \"macro\")\n",
        "test_acc_MCC = matthews_corrcoef(y_true=y_test.ravel(), y_pred=y_pred_on_test.ravel())\n",
        "test_acc_gmean = geometric_mean_score(y_true=y_test.ravel(), y_pred=y_pred_on_test.ravel())\n",
        "\n",
        "\n",
        "\n",
        "\n",
        "matrix = confusion_matrix(y_test.ravel(), y_pred_on_test.ravel())\n",
        "c1 =  classification_report(y_test.ravel(), y_pred_on_test.ravel())\n",
        "\n",
        "       \n",
        "\n",
        "print(\"the confusion matrix as shown\\n\", matrix)\n",
        "print(c1)\n",
        "print()\n",
        "print(\"F1-Weighted = {:.2f}\".format(test_acc))\n",
        "print(\"F1-Macro = {:.2f}\".format(test_acc_Macro))\n",
        "print(\"MCC = {:.2f}\".format(test_acc_MCC))\n",
        "print(\"Gmean = {:.2f}\".format(test_acc_gmean))"
      ]
    },
    {
      "cell_type": "markdown",
      "id": "b599302c",
      "metadata": {
        "id": "b599302c"
      },
      "source": [
        "# DecisionTreeClassifier"
      ]
    },
    {
      "cell_type": "code",
      "execution_count": 21,
      "id": "296c9e6f",
      "metadata": {
        "colab": {
          "base_uri": "https://localhost:8080/"
        },
        "id": "296c9e6f",
        "outputId": "c0662e3d-4f47-4269-ed72-1004b5c46c7a"
      },
      "outputs": [
        {
          "output_type": "stream",
          "name": "stdout",
          "text": [
            "Best setting min_samples_split=9, min_samples_leaf=9, creation=log_loss, max_depth=16, val_acc=0.91\n"
          ]
        }
      ],
      "source": [
        "from sklearn.tree import DecisionTreeClassifier\n",
        "best_acc = 0\n",
        "creation = ['gini', 'entropy', 'log_loss']\n",
        "for max_depth in range (3,30):\n",
        "    for min_samples_split in range (2,10):\n",
        "        for min_samples_leaf in range (2,10):\n",
        "            for creat in creation:\n",
        "                clf = DecisionTreeClassifier(random_state=201827000 , max_depth = max_depth, min_samples_split =min_samples_split, min_samples_leaf =min_samples_leaf, criterion = creat)\n",
        "                clf = clf.fit(train_data, y_train_over_sample)\n",
        "\n",
        "                y_pred_on_train = clf.predict(train_data)\n",
        "                train_acc = f1_score(y_true=y_train_over_sample, y_pred=y_pred_on_train, average = \"weighted\")\n",
        "\n",
        "                y_pred_on_val = clf.predict(val_data)\n",
        "                val_acc = f1_score(y_true=y_val, y_pred=y_pred_on_val, average = \"weighted\")\n",
        "\n",
        "                if val_acc > best_acc:\n",
        "                    best_acc = val_acc\n",
        "                    best_sample_split = min_samples_split\n",
        "                    best_sample_leaf = min_samples_leaf\n",
        "                    best_creation = creat\n",
        "                    best_depth = max_depth\n",
        "print(\"Best setting min_samples_split={}, min_samples_leaf={}, creation={}, max_depth={}, val_acc={:.2f}\".format(min_samples_split, min_samples_leaf,creat, best_depth, best_acc))"
      ]
    },
    {
      "cell_type": "markdown",
      "id": "8253cea8",
      "metadata": {
        "id": "8253cea8"
      },
      "source": [
        "# Results on the test set"
      ]
    },
    {
      "cell_type": "code",
      "execution_count": 22,
      "id": "744d17b8",
      "metadata": {
        "colab": {
          "base_uri": "https://localhost:8080/"
        },
        "id": "744d17b8",
        "outputId": "83e5547f-b17a-4963-b037-cf5fa5e12ec5"
      },
      "outputs": [
        {
          "output_type": "stream",
          "name": "stdout",
          "text": [
            "Best accuracy on test set is test_acc=0.89\n",
            "\n",
            "F1-Weighted = 0.89\n",
            "F1-Macro = 0.86\n",
            "MCC = 0.86\n",
            "Gmean = 0.85\n"
          ]
        }
      ],
      "source": [
        "clf = DecisionTreeClassifier (random_state=201827000 , max_depth = best_depth, min_samples_split =best_sample_split, min_samples_leaf =best_sample_leaf, criterion = best_creation)\n",
        "clf = clf.fit(X_train_val_merge,y_train_val_merge.ravel())\n",
        "\n",
        "y_test = y_test.ravel()\n",
        "\n",
        "y_pred_on_test = clf.predict(test_data).ravel()\n",
        "test_acc = f1_score(y_true=y_test.ravel(), y_pred=y_pred_on_test, average = \"weighted\")\n",
        "test_acc_Macro = f1_score(y_true=y_test, y_pred=y_pred_on_test, average = \"macro\")\n",
        "test_acc_MCC = matthews_corrcoef(y_true=y_test, y_pred=y_pred_on_test)\n",
        "test_acc_gmean = geometric_mean_score(y_true=y_test, y_pred=y_pred_on_test)\n",
        "\n",
        "\n",
        "\n",
        "print(\"Best accuracy on test set is test_acc={:.2f}\".format(test_acc))\n",
        "print()\n",
        "print(\"F1-Weighted = {:.2f}\".format(test_acc))\n",
        "print(\"F1-Macro = {:.2f}\".format(test_acc_Macro))\n",
        "print(\"MCC = {:.2f}\".format(test_acc_MCC))\n",
        "print(\"Gmean = {:.2f}\".format(test_acc_gmean))\n",
        "\n"
      ]
    },
    {
      "cell_type": "markdown",
      "id": "6c054d56",
      "metadata": {
        "id": "6c054d56"
      },
      "source": [
        "# RandomForestClassifier"
      ]
    },
    {
      "cell_type": "code",
      "execution_count": 23,
      "id": "af156802",
      "metadata": {
        "colab": {
          "base_uri": "https://localhost:8080/"
        },
        "id": "af156802",
        "outputId": "f67fdbc2-cb78-4c76-c03f-20534380b87f"
      },
      "outputs": [
        {
          "output_type": "stream",
          "name": "stdout",
          "text": [
            "Best setting n_estimators=110, min_samples_split=9, min_samples_leaf=9, creation=log_loss, max_depth=4, val_acc=0.78\n"
          ]
        }
      ],
      "source": [
        "from sklearn.ensemble import RandomForestClassifier\n",
        "best_acc = 0\n",
        "creation = ['gini', 'entropy', 'log_loss']\n",
        "for max_depth in range (3,5):\n",
        "    for min_samples_split in range (2,10):\n",
        "        for min_samples_leaf in range (2,10):\n",
        "            for n_estimators in range (50,140,15):\n",
        "                for creat in creation:\n",
        "                    clf = RandomForestClassifier(random_state=201827000 ,n_estimators = n_estimators, max_depth = max_depth, min_samples_split =min_samples_split, min_samples_leaf =min_samples_leaf, criterion = creat)\n",
        "                    clf = clf.fit(train_data, y_train_over_sample)\n",
        "\n",
        "                    y_pred_on_train = clf.predict(train_data)\n",
        "                    train_acc = f1_score(y_true=y_train_over_sample, y_pred=y_pred_on_train, average = \"weighted\")\n",
        "\n",
        "                    y_pred_on_val = clf.predict(val_data)\n",
        "                    val_acc = f1_score(y_true=y_val, y_pred=y_pred_on_val, average = \"weighted\")\n",
        "\n",
        "                    if val_acc > best_acc:\n",
        "                        best_acc = val_acc\n",
        "                        best_sample_split = min_samples_split\n",
        "                        best_sample_leaf = min_samples_leaf\n",
        "                        best_creation = creat\n",
        "                        best_depth = max_depth\n",
        "                        best_n_estimators = n_estimators\n",
        "print(\"Best setting n_estimators={}, min_samples_split={}, min_samples_leaf={}, creation={}, max_depth={}, val_acc={:.2f}\".format(best_n_estimators, min_samples_split, min_samples_leaf,creat, best_depth, best_acc))"
      ]
    },
    {
      "cell_type": "markdown",
      "id": "e23d78d3",
      "metadata": {
        "id": "e23d78d3"
      },
      "source": [
        "# Results on the test set"
      ]
    },
    {
      "cell_type": "code",
      "execution_count": 24,
      "id": "f51e196d",
      "metadata": {
        "colab": {
          "base_uri": "https://localhost:8080/"
        },
        "id": "f51e196d",
        "outputId": "93345ebe-aacf-4159-a43c-6c8de12c8c8f"
      },
      "outputs": [
        {
          "output_type": "stream",
          "name": "stdout",
          "text": [
            "Best accuracy on test set is test_acc=0.76\n",
            "\n",
            "F1-Weighted = 0.76\n",
            "F1-Macro = 0.68\n",
            "MCC = 0.72\n",
            "Gmean = 0.71\n"
          ]
        }
      ],
      "source": [
        "clf = RandomForestClassifier (random_state=201827000 , n_estimators = best_n_estimators, max_depth = best_depth, min_samples_split =best_sample_split, min_samples_leaf =best_sample_leaf, criterion = best_creation)\n",
        "clf = clf.fit(X_train_val_merge,y_train_val_merge.ravel())\n",
        "\n",
        "y_pred_on_test = clf.predict(test_data).ravel()\n",
        "test_acc = f1_score(y_true=y_test, y_pred=y_pred_on_test, average = \"weighted\")\n",
        "test_acc_Macro = f1_score(y_true=y_test, y_pred=y_pred_on_test, average = \"macro\")\n",
        "test_acc_MCC = matthews_corrcoef(y_true=y_test, y_pred=y_pred_on_test)\n",
        "test_acc_gmean = geometric_mean_score(y_true=y_test, y_pred=y_pred_on_test)\n",
        "\n",
        "print(\"Best accuracy on test set is test_acc={:.2f}\".format(test_acc))\n",
        "print()\n",
        "print(\"F1-Weighted = {:.2f}\".format(test_acc))\n",
        "print(\"F1-Macro = {:.2f}\".format(test_acc_Macro))\n",
        "print(\"MCC = {:.2f}\".format(test_acc_MCC))\n",
        "print(\"Gmean = {:.2f}\".format(test_acc_gmean))"
      ]
    },
    {
      "cell_type": "markdown",
      "id": "26a30abf",
      "metadata": {
        "id": "26a30abf"
      },
      "source": [
        "# Extra work and trying"
      ]
    },
    {
      "cell_type": "code",
      "execution_count": 25,
      "id": "f763fc1b",
      "metadata": {
        "colab": {
          "base_uri": "https://localhost:8080/",
          "height": 423
        },
        "id": "f763fc1b",
        "outputId": "f8d130b0-f6b0-4452-b87b-eb65b48247ae"
      },
      "outputs": [
        {
          "output_type": "display_data",
          "data": {
            "text/plain": [
              "        X1     X2  X3   X4   X5    X6   X7   X8   X9   X10  ...  X14_ CA50  \\\n",
              "0     2709   59.0  11  120   43   150  228  217  120  2114  ...          0   \n",
              "1     2802   54.0   7    0    0   693  224  225  136   162  ...          1   \n",
              "2     2325   28.0  12    0    0  1260  215  213  133   162  ...          0   \n",
              "3     2837  112.0   8  272   16  3649  235  231  128  6221  ...          0   \n",
              "4     2509   59.0   7  134   10   900  226  226  134  5184  ...          0   \n",
              "...    ...    ...  ..  ...  ...   ...  ...  ...  ...   ...  ...        ...   \n",
              "6369  3101   67.0   6  170    1   824  227  228  135  1657  ...          0   \n",
              "6370  3050  139.0  13   30   -3  3127  240  235  123  5770  ...          0   \n",
              "6371  2080  106.0  24   30   12   582  252  202   64   108  ...          0   \n",
              "6372  3011  108.0  10  212   36  2912  237  229  122  6632  ...          0   \n",
              "6373  1980    3.0  22  300  125   300  185  193  140   927  ...          0   \n",
              "\n",
              "      X14_ CA51  X14_ CA52  X14_ CA53  X14_ CA54  X14_ CA55  X14_ CA58  \\\n",
              "0             0          0          0          0          0          0   \n",
              "1             0          0          0          0          0          0   \n",
              "2             0          0          0          0          0          0   \n",
              "3             0          0          0          0          0          0   \n",
              "4             0          0          0          0          0          0   \n",
              "...         ...        ...        ...        ...        ...        ...   \n",
              "6369          0          0          0          0          0          0   \n",
              "6370          0          0          0          0          0          0   \n",
              "6371          0          0          0          0          0          0   \n",
              "6372          0          0          0          0          0          0   \n",
              "6373          0          0          0          0          0          0   \n",
              "\n",
              "      X14_ CA59  X14_ CA60  Y  \n",
              "0             0          0  4  \n",
              "1             0          0  4  \n",
              "2             0          0  2  \n",
              "3             0          0  5  \n",
              "4             0          0  4  \n",
              "...         ...        ... ..  \n",
              "6369          0          0  0  \n",
              "6370          0          0  0  \n",
              "6371          0          0  2  \n",
              "6372          0          0  0  \n",
              "6373          0          0  3  \n",
              "\n",
              "[6374 rows x 49 columns]"
            ],
            "text/html": [
              "\n",
              "  <div id=\"df-93c8a70e-1df1-4926-a365-69dc869bbfec\">\n",
              "    <div class=\"colab-df-container\">\n",
              "      <div>\n",
              "<style scoped>\n",
              "    .dataframe tbody tr th:only-of-type {\n",
              "        vertical-align: middle;\n",
              "    }\n",
              "\n",
              "    .dataframe tbody tr th {\n",
              "        vertical-align: top;\n",
              "    }\n",
              "\n",
              "    .dataframe thead th {\n",
              "        text-align: right;\n",
              "    }\n",
              "</style>\n",
              "<table border=\"1\" class=\"dataframe\">\n",
              "  <thead>\n",
              "    <tr style=\"text-align: right;\">\n",
              "      <th></th>\n",
              "      <th>X1</th>\n",
              "      <th>X2</th>\n",
              "      <th>X3</th>\n",
              "      <th>X4</th>\n",
              "      <th>X5</th>\n",
              "      <th>X6</th>\n",
              "      <th>X7</th>\n",
              "      <th>X8</th>\n",
              "      <th>X9</th>\n",
              "      <th>X10</th>\n",
              "      <th>...</th>\n",
              "      <th>X14_ CA50</th>\n",
              "      <th>X14_ CA51</th>\n",
              "      <th>X14_ CA52</th>\n",
              "      <th>X14_ CA53</th>\n",
              "      <th>X14_ CA54</th>\n",
              "      <th>X14_ CA55</th>\n",
              "      <th>X14_ CA58</th>\n",
              "      <th>X14_ CA59</th>\n",
              "      <th>X14_ CA60</th>\n",
              "      <th>Y</th>\n",
              "    </tr>\n",
              "  </thead>\n",
              "  <tbody>\n",
              "    <tr>\n",
              "      <th>0</th>\n",
              "      <td>2709</td>\n",
              "      <td>59.0</td>\n",
              "      <td>11</td>\n",
              "      <td>120</td>\n",
              "      <td>43</td>\n",
              "      <td>150</td>\n",
              "      <td>228</td>\n",
              "      <td>217</td>\n",
              "      <td>120</td>\n",
              "      <td>2114</td>\n",
              "      <td>...</td>\n",
              "      <td>0</td>\n",
              "      <td>0</td>\n",
              "      <td>0</td>\n",
              "      <td>0</td>\n",
              "      <td>0</td>\n",
              "      <td>0</td>\n",
              "      <td>0</td>\n",
              "      <td>0</td>\n",
              "      <td>0</td>\n",
              "      <td>4</td>\n",
              "    </tr>\n",
              "    <tr>\n",
              "      <th>1</th>\n",
              "      <td>2802</td>\n",
              "      <td>54.0</td>\n",
              "      <td>7</td>\n",
              "      <td>0</td>\n",
              "      <td>0</td>\n",
              "      <td>693</td>\n",
              "      <td>224</td>\n",
              "      <td>225</td>\n",
              "      <td>136</td>\n",
              "      <td>162</td>\n",
              "      <td>...</td>\n",
              "      <td>1</td>\n",
              "      <td>0</td>\n",
              "      <td>0</td>\n",
              "      <td>0</td>\n",
              "      <td>0</td>\n",
              "      <td>0</td>\n",
              "      <td>0</td>\n",
              "      <td>0</td>\n",
              "      <td>0</td>\n",
              "      <td>4</td>\n",
              "    </tr>\n",
              "    <tr>\n",
              "      <th>2</th>\n",
              "      <td>2325</td>\n",
              "      <td>28.0</td>\n",
              "      <td>12</td>\n",
              "      <td>0</td>\n",
              "      <td>0</td>\n",
              "      <td>1260</td>\n",
              "      <td>215</td>\n",
              "      <td>213</td>\n",
              "      <td>133</td>\n",
              "      <td>162</td>\n",
              "      <td>...</td>\n",
              "      <td>0</td>\n",
              "      <td>0</td>\n",
              "      <td>0</td>\n",
              "      <td>0</td>\n",
              "      <td>0</td>\n",
              "      <td>0</td>\n",
              "      <td>0</td>\n",
              "      <td>0</td>\n",
              "      <td>0</td>\n",
              "      <td>2</td>\n",
              "    </tr>\n",
              "    <tr>\n",
              "      <th>3</th>\n",
              "      <td>2837</td>\n",
              "      <td>112.0</td>\n",
              "      <td>8</td>\n",
              "      <td>272</td>\n",
              "      <td>16</td>\n",
              "      <td>3649</td>\n",
              "      <td>235</td>\n",
              "      <td>231</td>\n",
              "      <td>128</td>\n",
              "      <td>6221</td>\n",
              "      <td>...</td>\n",
              "      <td>0</td>\n",
              "      <td>0</td>\n",
              "      <td>0</td>\n",
              "      <td>0</td>\n",
              "      <td>0</td>\n",
              "      <td>0</td>\n",
              "      <td>0</td>\n",
              "      <td>0</td>\n",
              "      <td>0</td>\n",
              "      <td>5</td>\n",
              "    </tr>\n",
              "    <tr>\n",
              "      <th>4</th>\n",
              "      <td>2509</td>\n",
              "      <td>59.0</td>\n",
              "      <td>7</td>\n",
              "      <td>134</td>\n",
              "      <td>10</td>\n",
              "      <td>900</td>\n",
              "      <td>226</td>\n",
              "      <td>226</td>\n",
              "      <td>134</td>\n",
              "      <td>5184</td>\n",
              "      <td>...</td>\n",
              "      <td>0</td>\n",
              "      <td>0</td>\n",
              "      <td>0</td>\n",
              "      <td>0</td>\n",
              "      <td>0</td>\n",
              "      <td>0</td>\n",
              "      <td>0</td>\n",
              "      <td>0</td>\n",
              "      <td>0</td>\n",
              "      <td>4</td>\n",
              "    </tr>\n",
              "    <tr>\n",
              "      <th>...</th>\n",
              "      <td>...</td>\n",
              "      <td>...</td>\n",
              "      <td>...</td>\n",
              "      <td>...</td>\n",
              "      <td>...</td>\n",
              "      <td>...</td>\n",
              "      <td>...</td>\n",
              "      <td>...</td>\n",
              "      <td>...</td>\n",
              "      <td>...</td>\n",
              "      <td>...</td>\n",
              "      <td>...</td>\n",
              "      <td>...</td>\n",
              "      <td>...</td>\n",
              "      <td>...</td>\n",
              "      <td>...</td>\n",
              "      <td>...</td>\n",
              "      <td>...</td>\n",
              "      <td>...</td>\n",
              "      <td>...</td>\n",
              "      <td>...</td>\n",
              "    </tr>\n",
              "    <tr>\n",
              "      <th>6369</th>\n",
              "      <td>3101</td>\n",
              "      <td>67.0</td>\n",
              "      <td>6</td>\n",
              "      <td>170</td>\n",
              "      <td>1</td>\n",
              "      <td>824</td>\n",
              "      <td>227</td>\n",
              "      <td>228</td>\n",
              "      <td>135</td>\n",
              "      <td>1657</td>\n",
              "      <td>...</td>\n",
              "      <td>0</td>\n",
              "      <td>0</td>\n",
              "      <td>0</td>\n",
              "      <td>0</td>\n",
              "      <td>0</td>\n",
              "      <td>0</td>\n",
              "      <td>0</td>\n",
              "      <td>0</td>\n",
              "      <td>0</td>\n",
              "      <td>0</td>\n",
              "    </tr>\n",
              "    <tr>\n",
              "      <th>6370</th>\n",
              "      <td>3050</td>\n",
              "      <td>139.0</td>\n",
              "      <td>13</td>\n",
              "      <td>30</td>\n",
              "      <td>-3</td>\n",
              "      <td>3127</td>\n",
              "      <td>240</td>\n",
              "      <td>235</td>\n",
              "      <td>123</td>\n",
              "      <td>5770</td>\n",
              "      <td>...</td>\n",
              "      <td>0</td>\n",
              "      <td>0</td>\n",
              "      <td>0</td>\n",
              "      <td>0</td>\n",
              "      <td>0</td>\n",
              "      <td>0</td>\n",
              "      <td>0</td>\n",
              "      <td>0</td>\n",
              "      <td>0</td>\n",
              "      <td>0</td>\n",
              "    </tr>\n",
              "    <tr>\n",
              "      <th>6371</th>\n",
              "      <td>2080</td>\n",
              "      <td>106.0</td>\n",
              "      <td>24</td>\n",
              "      <td>30</td>\n",
              "      <td>12</td>\n",
              "      <td>582</td>\n",
              "      <td>252</td>\n",
              "      <td>202</td>\n",
              "      <td>64</td>\n",
              "      <td>108</td>\n",
              "      <td>...</td>\n",
              "      <td>0</td>\n",
              "      <td>0</td>\n",
              "      <td>0</td>\n",
              "      <td>0</td>\n",
              "      <td>0</td>\n",
              "      <td>0</td>\n",
              "      <td>0</td>\n",
              "      <td>0</td>\n",
              "      <td>0</td>\n",
              "      <td>2</td>\n",
              "    </tr>\n",
              "    <tr>\n",
              "      <th>6372</th>\n",
              "      <td>3011</td>\n",
              "      <td>108.0</td>\n",
              "      <td>10</td>\n",
              "      <td>212</td>\n",
              "      <td>36</td>\n",
              "      <td>2912</td>\n",
              "      <td>237</td>\n",
              "      <td>229</td>\n",
              "      <td>122</td>\n",
              "      <td>6632</td>\n",
              "      <td>...</td>\n",
              "      <td>0</td>\n",
              "      <td>0</td>\n",
              "      <td>0</td>\n",
              "      <td>0</td>\n",
              "      <td>0</td>\n",
              "      <td>0</td>\n",
              "      <td>0</td>\n",
              "      <td>0</td>\n",
              "      <td>0</td>\n",
              "      <td>0</td>\n",
              "    </tr>\n",
              "    <tr>\n",
              "      <th>6373</th>\n",
              "      <td>1980</td>\n",
              "      <td>3.0</td>\n",
              "      <td>22</td>\n",
              "      <td>300</td>\n",
              "      <td>125</td>\n",
              "      <td>300</td>\n",
              "      <td>185</td>\n",
              "      <td>193</td>\n",
              "      <td>140</td>\n",
              "      <td>927</td>\n",
              "      <td>...</td>\n",
              "      <td>0</td>\n",
              "      <td>0</td>\n",
              "      <td>0</td>\n",
              "      <td>0</td>\n",
              "      <td>0</td>\n",
              "      <td>0</td>\n",
              "      <td>0</td>\n",
              "      <td>0</td>\n",
              "      <td>0</td>\n",
              "      <td>3</td>\n",
              "    </tr>\n",
              "  </tbody>\n",
              "</table>\n",
              "<p>6374 rows × 49 columns</p>\n",
              "</div>\n",
              "      <button class=\"colab-df-convert\" onclick=\"convertToInteractive('df-93c8a70e-1df1-4926-a365-69dc869bbfec')\"\n",
              "              title=\"Convert this dataframe to an interactive table.\"\n",
              "              style=\"display:none;\">\n",
              "        \n",
              "  <svg xmlns=\"http://www.w3.org/2000/svg\" height=\"24px\"viewBox=\"0 0 24 24\"\n",
              "       width=\"24px\">\n",
              "    <path d=\"M0 0h24v24H0V0z\" fill=\"none\"/>\n",
              "    <path d=\"M18.56 5.44l.94 2.06.94-2.06 2.06-.94-2.06-.94-.94-2.06-.94 2.06-2.06.94zm-11 1L8.5 8.5l.94-2.06 2.06-.94-2.06-.94L8.5 2.5l-.94 2.06-2.06.94zm10 10l.94 2.06.94-2.06 2.06-.94-2.06-.94-.94-2.06-.94 2.06-2.06.94z\"/><path d=\"M17.41 7.96l-1.37-1.37c-.4-.4-.92-.59-1.43-.59-.52 0-1.04.2-1.43.59L10.3 9.45l-7.72 7.72c-.78.78-.78 2.05 0 2.83L4 21.41c.39.39.9.59 1.41.59.51 0 1.02-.2 1.41-.59l7.78-7.78 2.81-2.81c.8-.78.8-2.07 0-2.86zM5.41 20L4 18.59l7.72-7.72 1.47 1.35L5.41 20z\"/>\n",
              "  </svg>\n",
              "      </button>\n",
              "      \n",
              "  <style>\n",
              "    .colab-df-container {\n",
              "      display:flex;\n",
              "      flex-wrap:wrap;\n",
              "      gap: 12px;\n",
              "    }\n",
              "\n",
              "    .colab-df-convert {\n",
              "      background-color: #E8F0FE;\n",
              "      border: none;\n",
              "      border-radius: 50%;\n",
              "      cursor: pointer;\n",
              "      display: none;\n",
              "      fill: #1967D2;\n",
              "      height: 32px;\n",
              "      padding: 0 0 0 0;\n",
              "      width: 32px;\n",
              "    }\n",
              "\n",
              "    .colab-df-convert:hover {\n",
              "      background-color: #E2EBFA;\n",
              "      box-shadow: 0px 1px 2px rgba(60, 64, 67, 0.3), 0px 1px 3px 1px rgba(60, 64, 67, 0.15);\n",
              "      fill: #174EA6;\n",
              "    }\n",
              "\n",
              "    [theme=dark] .colab-df-convert {\n",
              "      background-color: #3B4455;\n",
              "      fill: #D2E3FC;\n",
              "    }\n",
              "\n",
              "    [theme=dark] .colab-df-convert:hover {\n",
              "      background-color: #434B5C;\n",
              "      box-shadow: 0px 1px 3px 1px rgba(0, 0, 0, 0.15);\n",
              "      filter: drop-shadow(0px 1px 2px rgba(0, 0, 0, 0.3));\n",
              "      fill: #FFFFFF;\n",
              "    }\n",
              "  </style>\n",
              "\n",
              "      <script>\n",
              "        const buttonEl =\n",
              "          document.querySelector('#df-93c8a70e-1df1-4926-a365-69dc869bbfec button.colab-df-convert');\n",
              "        buttonEl.style.display =\n",
              "          google.colab.kernel.accessAllowed ? 'block' : 'none';\n",
              "\n",
              "        async function convertToInteractive(key) {\n",
              "          const element = document.querySelector('#df-93c8a70e-1df1-4926-a365-69dc869bbfec');\n",
              "          const dataTable =\n",
              "            await google.colab.kernel.invokeFunction('convertToInteractive',\n",
              "                                                     [key], {});\n",
              "          if (!dataTable) return;\n",
              "\n",
              "          const docLinkHtml = 'Like what you see? Visit the ' +\n",
              "            '<a target=\"_blank\" href=https://colab.research.google.com/notebooks/data_table.ipynb>data table notebook</a>'\n",
              "            + ' to learn more about interactive tables.';\n",
              "          element.innerHTML = '';\n",
              "          dataTable['output_type'] = 'display_data';\n",
              "          await google.colab.output.renderOutput(dataTable, element);\n",
              "          const docLink = document.createElement('div');\n",
              "          docLink.innerHTML = docLinkHtml;\n",
              "          element.appendChild(docLink);\n",
              "        }\n",
              "      </script>\n",
              "    </div>\n",
              "  </div>\n",
              "  "
            ]
          },
          "metadata": {}
        }
      ],
      "source": [
        "df = pd.read_csv('Dataset-vf.csv')\n",
        "df['Y'] = le.fit_transform(df['Y'])\n",
        "df = df.drop('X13',axis = 1)\n",
        "df = df.drop('X14',axis = 1)\n",
        "df = df.drop('X15',axis = 1)\n",
        "\n",
        "df = df.join(X13)\n",
        "df = df.join(X14)\n",
        "\n",
        "last_column = df.pop(\"Y\")\n",
        "df.insert(48,\"Y\", last_column)\n",
        "display(df)\n"
      ]
    },
    {
      "cell_type": "code",
      "execution_count": 26,
      "id": "31e0ab6a",
      "metadata": {
        "colab": {
          "base_uri": "https://localhost:8080/"
        },
        "id": "31e0ab6a",
        "outputId": "4ed56ccc-12fc-45e9-b1b6-a6946dfee049"
      },
      "outputs": [
        {
          "output_type": "execute_result",
          "data": {
            "text/plain": [
              "4461"
            ]
          },
          "metadata": {},
          "execution_count": 26
        }
      ],
      "source": [
        "int(len(df)*0.7)"
      ]
    },
    {
      "cell_type": "code",
      "execution_count": 27,
      "id": "e9ec0d1d",
      "metadata": {
        "id": "e9ec0d1d"
      },
      "outputs": [],
      "source": [
        "dummy_traindf = df.iloc[0:int(len(df)*0.7)]"
      ]
    },
    {
      "cell_type": "code",
      "execution_count": 28,
      "id": "889708b2",
      "metadata": {
        "colab": {
          "base_uri": "https://localhost:8080/"
        },
        "id": "889708b2",
        "outputId": "422ae47f-9e0a-422a-f9e8-c5fd19677514"
      },
      "outputs": [
        {
          "output_type": "stream",
          "name": "stderr",
          "text": [
            "<ipython-input-28-d535d432ca5f>:7: SettingWithCopyWarning: \n",
            "A value is trying to be set on a copy of a slice from a DataFrame\n",
            "\n",
            "See the caveats in the documentation: https://pandas.pydata.org/pandas-docs/stable/user_guide/indexing.html#returning-a-view-versus-a-copy\n",
            "  traindf.drop(\"X2\",axis=1,inplace=True)\n",
            "<ipython-input-28-d535d432ca5f>:9: SettingWithCopyWarning: \n",
            "A value is trying to be set on a copy of a slice from a DataFrame\n",
            "\n",
            "See the caveats in the documentation: https://pandas.pydata.org/pandas-docs/stable/user_guide/indexing.html#returning-a-view-versus-a-copy\n",
            "  testdf.drop(\"X2\",axis=1,inplace=True)\n",
            "<ipython-input-28-d535d432ca5f>:11: SettingWithCopyWarning: \n",
            "A value is trying to be set on a copy of a slice from a DataFrame.\n",
            "Try using .loc[row_indexer,col_indexer] = value instead\n",
            "\n",
            "See the caveats in the documentation: https://pandas.pydata.org/pandas-docs/stable/user_guide/indexing.html#returning-a-view-versus-a-copy\n",
            "  testdf['X2']= pred\n"
          ]
        }
      ],
      "source": [
        "#LinearRegression to fill mising values \n",
        "\n",
        "lr = LinearRegression()\n",
        "testdf = dummy_traindf[dummy_traindf['X2'].isnull()==True]\n",
        "traindf = dummy_traindf[dummy_traindf['X2'].isnull()==False]\n",
        "y = traindf['X2']\n",
        "traindf.drop(\"X2\",axis=1,inplace=True)\n",
        "lr.fit(traindf,y)\n",
        "testdf.drop(\"X2\",axis=1,inplace=True)\n",
        "pred = lr.predict(testdf)\n",
        "testdf['X2']= pred"
      ]
    },
    {
      "cell_type": "code",
      "execution_count": 29,
      "id": "8ea12a0e",
      "metadata": {
        "colab": {
          "base_uri": "https://localhost:8080/"
        },
        "id": "8ea12a0e",
        "outputId": "bf53cb05-6acf-4d97-f39f-516ded3a2088"
      },
      "outputs": [
        {
          "output_type": "stream",
          "name": "stderr",
          "text": [
            "<ipython-input-29-fefe37d846da>:1: SettingWithCopyWarning: \n",
            "A value is trying to be set on a copy of a slice from a DataFrame.\n",
            "Try using .loc[row_indexer,col_indexer] = value instead\n",
            "\n",
            "See the caveats in the documentation: https://pandas.pydata.org/pandas-docs/stable/user_guide/indexing.html#returning-a-view-versus-a-copy\n",
            "  traindf['X2']=y\n"
          ]
        }
      ],
      "source": [
        "traindf['X2']=y"
      ]
    },
    {
      "cell_type": "code",
      "execution_count": 30,
      "id": "39befed8",
      "metadata": {
        "colab": {
          "base_uri": "https://localhost:8080/",
          "height": 312
        },
        "id": "39befed8",
        "outputId": "685736f7-4293-46f3-c30b-aae72a263fde"
      },
      "outputs": [
        {
          "output_type": "stream",
          "name": "stderr",
          "text": [
            "<ipython-input-30-3940c41f423f>:2: SettingWithCopyWarning: \n",
            "A value is trying to be set on a copy of a slice from a DataFrame\n",
            "\n",
            "See the caveats in the documentation: https://pandas.pydata.org/pandas-docs/stable/user_guide/indexing.html#returning-a-view-versus-a-copy\n",
            "  traindf.drop('Y',axis=1,inplace=True)\n",
            "/usr/local/lib/python3.10/dist-packages/sklearn/linear_model/_logistic.py:458: ConvergenceWarning: lbfgs failed to converge (status=1):\n",
            "STOP: TOTAL NO. of ITERATIONS REACHED LIMIT.\n",
            "\n",
            "Increase the number of iterations (max_iter) or scale the data as shown in:\n",
            "    https://scikit-learn.org/stable/modules/preprocessing.html\n",
            "Please also refer to the documentation for alternative solver options:\n",
            "    https://scikit-learn.org/stable/modules/linear_model.html#logistic-regression\n",
            "  n_iter_i = _check_optimize_result(\n"
          ]
        },
        {
          "output_type": "execute_result",
          "data": {
            "text/plain": [
              "LogisticRegression()"
            ],
            "text/html": [
              "<style>#sk-container-id-1 {color: black;background-color: white;}#sk-container-id-1 pre{padding: 0;}#sk-container-id-1 div.sk-toggleable {background-color: white;}#sk-container-id-1 label.sk-toggleable__label {cursor: pointer;display: block;width: 100%;margin-bottom: 0;padding: 0.3em;box-sizing: border-box;text-align: center;}#sk-container-id-1 label.sk-toggleable__label-arrow:before {content: \"▸\";float: left;margin-right: 0.25em;color: #696969;}#sk-container-id-1 label.sk-toggleable__label-arrow:hover:before {color: black;}#sk-container-id-1 div.sk-estimator:hover label.sk-toggleable__label-arrow:before {color: black;}#sk-container-id-1 div.sk-toggleable__content {max-height: 0;max-width: 0;overflow: hidden;text-align: left;background-color: #f0f8ff;}#sk-container-id-1 div.sk-toggleable__content pre {margin: 0.2em;color: black;border-radius: 0.25em;background-color: #f0f8ff;}#sk-container-id-1 input.sk-toggleable__control:checked~div.sk-toggleable__content {max-height: 200px;max-width: 100%;overflow: auto;}#sk-container-id-1 input.sk-toggleable__control:checked~label.sk-toggleable__label-arrow:before {content: \"▾\";}#sk-container-id-1 div.sk-estimator input.sk-toggleable__control:checked~label.sk-toggleable__label {background-color: #d4ebff;}#sk-container-id-1 div.sk-label input.sk-toggleable__control:checked~label.sk-toggleable__label {background-color: #d4ebff;}#sk-container-id-1 input.sk-hidden--visually {border: 0;clip: rect(1px 1px 1px 1px);clip: rect(1px, 1px, 1px, 1px);height: 1px;margin: -1px;overflow: hidden;padding: 0;position: absolute;width: 1px;}#sk-container-id-1 div.sk-estimator {font-family: monospace;background-color: #f0f8ff;border: 1px dotted black;border-radius: 0.25em;box-sizing: border-box;margin-bottom: 0.5em;}#sk-container-id-1 div.sk-estimator:hover {background-color: #d4ebff;}#sk-container-id-1 div.sk-parallel-item::after {content: \"\";width: 100%;border-bottom: 1px solid gray;flex-grow: 1;}#sk-container-id-1 div.sk-label:hover label.sk-toggleable__label {background-color: #d4ebff;}#sk-container-id-1 div.sk-serial::before {content: \"\";position: absolute;border-left: 1px solid gray;box-sizing: border-box;top: 0;bottom: 0;left: 50%;z-index: 0;}#sk-container-id-1 div.sk-serial {display: flex;flex-direction: column;align-items: center;background-color: white;padding-right: 0.2em;padding-left: 0.2em;position: relative;}#sk-container-id-1 div.sk-item {position: relative;z-index: 1;}#sk-container-id-1 div.sk-parallel {display: flex;align-items: stretch;justify-content: center;background-color: white;position: relative;}#sk-container-id-1 div.sk-item::before, #sk-container-id-1 div.sk-parallel-item::before {content: \"\";position: absolute;border-left: 1px solid gray;box-sizing: border-box;top: 0;bottom: 0;left: 50%;z-index: -1;}#sk-container-id-1 div.sk-parallel-item {display: flex;flex-direction: column;z-index: 1;position: relative;background-color: white;}#sk-container-id-1 div.sk-parallel-item:first-child::after {align-self: flex-end;width: 50%;}#sk-container-id-1 div.sk-parallel-item:last-child::after {align-self: flex-start;width: 50%;}#sk-container-id-1 div.sk-parallel-item:only-child::after {width: 0;}#sk-container-id-1 div.sk-dashed-wrapped {border: 1px dashed gray;margin: 0 0.4em 0.5em 0.4em;box-sizing: border-box;padding-bottom: 0.4em;background-color: white;}#sk-container-id-1 div.sk-label label {font-family: monospace;font-weight: bold;display: inline-block;line-height: 1.2em;}#sk-container-id-1 div.sk-label-container {text-align: center;}#sk-container-id-1 div.sk-container {/* jupyter's `normalize.less` sets `[hidden] { display: none; }` but bootstrap.min.css set `[hidden] { display: none !important; }` so we also need the `!important` here to be able to override the default hidden behavior on the sphinx rendered scikit-learn.org. See: https://github.com/scikit-learn/scikit-learn/issues/21755 */display: inline-block !important;position: relative;}#sk-container-id-1 div.sk-text-repr-fallback {display: none;}</style><div id=\"sk-container-id-1\" class=\"sk-top-container\"><div class=\"sk-text-repr-fallback\"><pre>LogisticRegression()</pre><b>In a Jupyter environment, please rerun this cell to show the HTML representation or trust the notebook. <br />On GitHub, the HTML representation is unable to render, please try loading this page with nbviewer.org.</b></div><div class=\"sk-container\" hidden><div class=\"sk-item\"><div class=\"sk-estimator sk-toggleable\"><input class=\"sk-toggleable__control sk-hidden--visually\" id=\"sk-estimator-id-1\" type=\"checkbox\" checked><label for=\"sk-estimator-id-1\" class=\"sk-toggleable__label sk-toggleable__label-arrow\">LogisticRegression</label><div class=\"sk-toggleable__content\"><pre>LogisticRegression()</pre></div></div></div></div></div>"
            ]
          },
          "metadata": {},
          "execution_count": 30
        }
      ],
      "source": [
        "y = traindf['Y']\n",
        "traindf.drop('Y',axis=1,inplace=True)\n",
        "from sklearn.linear_model import LogisticRegression\n",
        "lr = LogisticRegression()\n",
        "lr.fit(traindf,y)"
      ]
    },
    {
      "cell_type": "code",
      "execution_count": 31,
      "id": "26447b9d",
      "metadata": {
        "colab": {
          "base_uri": "https://localhost:8080/"
        },
        "id": "26447b9d",
        "outputId": "de53c2d6-d0d9-44f2-c8b2-cd8bb0b56387"
      },
      "outputs": [
        {
          "output_type": "stream",
          "name": "stderr",
          "text": [
            "<ipython-input-31-b7310587343c>:2: SettingWithCopyWarning: \n",
            "A value is trying to be set on a copy of a slice from a DataFrame\n",
            "\n",
            "See the caveats in the documentation: https://pandas.pydata.org/pandas-docs/stable/user_guide/indexing.html#returning-a-view-versus-a-copy\n",
            "  testdf.drop(\"Y\",axis=1,inplace=True)\n"
          ]
        }
      ],
      "source": [
        "y_test_dummy = testdf['Y']\n",
        "testdf.drop(\"Y\",axis=1,inplace=True)\n",
        "pred = lr.predict(testdf)"
      ]
    },
    {
      "cell_type": "code",
      "execution_count": 32,
      "id": "5deb957b",
      "metadata": {
        "colab": {
          "base_uri": "https://localhost:8080/"
        },
        "id": "5deb957b",
        "outputId": "681d47ab-6683-4b2a-a58f-a5e99c79900c"
      },
      "outputs": [
        {
          "output_type": "stream",
          "name": "stdout",
          "text": [
            "0.6426966292134831\n"
          ]
        }
      ],
      "source": [
        "print(metrics.accuracy_score(pred,y_test_dummy))"
      ]
    },
    {
      "cell_type": "markdown",
      "id": "1b7e76e5",
      "metadata": {
        "id": "1b7e76e5"
      },
      "source": [
        "# Error analysis and possible improvements"
      ]
    },
    {
      "cell_type": "markdown",
      "id": "db7cb21e",
      "metadata": {
        "id": "db7cb21e"
      },
      "source": [
        "do more feature selection try different balancing techniques also maybe more tuning for hyperparametars"
      ]
    },
    {
      "cell_type": "code",
      "execution_count": null,
      "id": "a87afe69",
      "metadata": {
        "id": "a87afe69"
      },
      "outputs": [],
      "source": []
    }
  ],
  "metadata": {
    "kernelspec": {
      "display_name": "Python 3 (ipykernel)",
      "language": "python",
      "name": "python3"
    },
    "language_info": {
      "codemirror_mode": {
        "name": "ipython",
        "version": 3
      },
      "file_extension": ".py",
      "mimetype": "text/x-python",
      "name": "python",
      "nbconvert_exporter": "python",
      "pygments_lexer": "ipython3",
      "version": "3.9.13"
    },
    "colab": {
      "provenance": []
    }
  },
  "nbformat": 4,
  "nbformat_minor": 5
}